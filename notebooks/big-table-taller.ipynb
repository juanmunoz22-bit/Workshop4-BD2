{
 "cells": [
  {
   "cell_type": "code",
   "execution_count": null,
   "metadata": {},
   "outputs": [],
   "source": [
    "!pip install pandas"
   ]
  },
  {
   "cell_type": "code",
   "execution_count": null,
   "metadata": {},
   "outputs": [],
   "source": [
    "import datetime\n",
    "from datetime import datetime as dt\n",
    "import pandas as pd\n",
    "\n",
    "from google.cloud import bigtable\n",
    "from google.cloud.bigtable import column_family\n",
    "from google.cloud.bigtable import row_filters\n",
    "from google.cloud.bigtable.row_set import RowSet "
   ]
  },
  {
   "cell_type": "code",
   "execution_count": null,
   "metadata": {},
   "outputs": [],
   "source": [
    "INSTANCE_ID = 'big-table-db2'\n",
    "TABLE_ID = 'plant2'"
   ]
  },
  {
   "cell_type": "code",
   "execution_count": null,
   "metadata": {},
   "outputs": [],
   "source": [
    "client = bigtable.Client.from_service_account_json('../../lofty-psyche-328203-949244c34274.json', admin = True)"
   ]
  },
  {
   "cell_type": "code",
   "execution_count": null,
   "metadata": {},
   "outputs": [],
   "source": [
    "print('Connecting to database instance')\n",
    "instance = client.instance(INSTANCE_ID)"
   ]
  },
  {
   "cell_type": "code",
   "execution_count": null,
   "metadata": {},
   "outputs": [],
   "source": [
    "print('Creating the {} table'.format(TABLE_ID))\n",
    "table = instance.table(TABLE_ID)\n",
    "\n",
    "if not table.exists():\n",
    "    table.create()\n",
    "else:\n",
    "    print(\"ERROR: Table {} already exists\".format(TABLE_ID))"
   ]
  },
  {
   "cell_type": "code",
   "execution_count": null,
   "metadata": {},
   "outputs": [],
   "source": [
    "print('Creating all family columns')\n",
    "\n",
    "plant_cfId = 'plant'\n",
    "customer_cf = table.column_family(plant_cfId)\n",
    "customer_cf.create()\n",
    "\n",
    "telemetry_cfId = 'telemetry'\n",
    "items_cf = table.column_family(telemetry_cfId)\n",
    "items_cf.create()"
   ]
  },
  {
   "cell_type": "code",
   "execution_count": null,
   "metadata": {},
   "outputs": [],
   "source": [
    "df = pd.read_csv('../data/Plant_2_Weather_Sensor_Data.csv')\n",
    "len(df[0:3])\n",
    "value = str(df['AMBIENT_TEMPERATURE'][0]).encode()\n",
    "#row_key = 'plant#{}#{}'.format(df['PLANT_ID'][0], df['DATE_TIME'][0]).encode()\n",
    "#row_key"
   ]
  },
  {
   "cell_type": "code",
   "execution_count": null,
   "metadata": {},
   "outputs": [],
   "source": [
    "print('Writing orders to the table')\n",
    "rows = []\n",
    "for line in range(len(df)):\n",
    "    row_key = 'plant#{}#{}'.format(df['PLANT_ID'][line], df['DATE_TIME'][line]).encode()\n",
    "    date_time = datetime.datetime.strptime(df['DATE_TIME'][line], '%Y-%m-%d %H:%M:%S')\n",
    "    row = table.direct_row(row_key)\n",
    "\n",
    "    row.set_cell(plant_cfId, 'source_key'.encode(), df['SOURCE_KEY'][line], timestamp = date_time)\n",
    "\n",
    "    row.set_cell(telemetry_cfId, 'ambient_temp'.encode(), str(df['AMBIENT_TEMPERATURE'][line]), timestamp = date_time)\n",
    "    row.set_cell(telemetry_cfId, 'module_temp'.encode(), str(df['MODULE_TEMPERATURE'][line]), timestamp = date_time)\n",
    "    row.set_cell(telemetry_cfId, 'irradiation'.encode(), str(df['IRRADIATION'][line]), timestamp = date_time)\n",
    "\n",
    "    rows.append(row)\n",
    "\n",
    "table.mutate_rows(rows)"
   ]
  },
  {
   "cell_type": "code",
   "execution_count": null,
   "metadata": {},
   "outputs": [],
   "source": [
    "print('Reading a range of rows')\n",
    "\n",
    "row_set = RowSet()\n",
    "row_set.add_row_range_from_keys(\n",
    "    start_key = b'plant#4136001#2020-06-01 06:00:00',\n",
    "    end_key = b'plant#4136001#2020-06-01 12:00:00'\n",
    ")\n",
    "\n",
    "col_filter = row_filters.ColumnQualifierRegexFilter('ambient_temp'.encode())\n",
    "\n",
    "rows = table.read_rows(row_set=row_set, filter_=col_filter)\n",
    "\n",
    "for row in rows:\n",
    "    print_row(row)"
   ]
  },
  {
   "cell_type": "code",
   "execution_count": null,
   "metadata": {},
   "outputs": [],
   "source": [
    "def print_row(row):\n",
    "    print(\"Reading data for {}:\".format(row.row_key.decode('utf-8')))\n",
    "    for cf, cols in sorted(row.cells.items()):\n",
    "        print(\"Column Family {}\".format(cf))\n",
    "        for col, cells in sorted(cols.items()):\n",
    "            for cell in cells:\n",
    "                labels = \" [{}]\".format(\",\".join(cell.labels)) \\\n",
    "                    if len(cell.labels) else \"\"\n",
    "                print(\n",
    "                    \"\\t{}: {} @{}{}\".format(col.decode('utf-8'),\n",
    "                                            cell.value.decode('utf-8'),\n",
    "                                            cell.timestamp, labels))\n",
    "    print(\"\")"
   ]
  }
 ],
 "metadata": {
  "interpreter": {
   "hash": "974dc7267118ab73813c3707795434ef88a5cb59fbcc85879b6a60b737adb12e"
  },
  "kernelspec": {
   "display_name": "Python 3.9.1 64-bit",
   "name": "python3"
  },
  "language_info": {
   "codemirror_mode": {
    "name": "ipython",
    "version": 3
   },
   "file_extension": ".py",
   "mimetype": "text/x-python",
   "name": "python",
   "nbconvert_exporter": "python",
   "pygments_lexer": "ipython3",
   "version": "3.9.1"
  },
  "orig_nbformat": 4
 },
 "nbformat": 4,
 "nbformat_minor": 2
}
