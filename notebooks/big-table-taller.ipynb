{
 "cells": [
  {
   "cell_type": "code",
   "execution_count": null,
   "metadata": {},
   "outputs": [],
   "source": [
    "!pip install pandas"
   ]
  },
  {
   "cell_type": "code",
   "execution_count": 1,
   "metadata": {},
   "outputs": [],
   "source": [
    "import datetime\n",
    "from datetime import datetime as dt\n",
    "import pandas as pd\n",
    "\n",
    "from google.cloud import bigtable\n",
    "from google.cloud.bigtable import column_family\n",
    "from google.cloud.bigtable import row_filters\n",
    "from google.cloud.bigtable.row_set import RowSet "
   ]
  },
  {
   "cell_type": "code",
   "execution_count": 2,
   "metadata": {},
   "outputs": [],
   "source": [
    "INSTANCE_ID = 'big-table-db2'\n",
    "TABLE_GENERATION_ID = 'plant_generation'\n",
    "TABLE_WEATHER_ID = 'plant_weather'"
   ]
  },
  {
   "cell_type": "code",
   "execution_count": 3,
   "metadata": {},
   "outputs": [],
   "source": [
    "client = bigtable.Client.from_service_account_json('../../lofty-psyche-328203-949244c34274.json', admin = True)"
   ]
  },
  {
   "cell_type": "code",
   "execution_count": 4,
   "metadata": {},
   "outputs": [
    {
     "name": "stdout",
     "output_type": "stream",
     "text": [
      "Connecting to database instance\n"
     ]
    }
   ],
   "source": [
    "print('Connecting to database instance')\n",
    "instance = client.instance(INSTANCE_ID)"
   ]
  },
  {
   "cell_type": "code",
   "execution_count": 5,
   "metadata": {},
   "outputs": [
    {
     "name": "stdout",
     "output_type": "stream",
     "text": [
      "Creating the plant_generation table\n",
      "ERROR: Table plant_generation already exists\n",
      "Creating the plant_weather table\n",
      "ERROR: Table plant_weather already exists\n"
     ]
    }
   ],
   "source": [
    "print('Creating the {} table'.format(TABLE_GENERATION_ID))\n",
    "table_generation = instance.table(TABLE_GENERATION_ID)\n",
    "\n",
    "if not table_generation.exists():\n",
    "    table_generation.create()\n",
    "else:\n",
    "    print(\"ERROR: Table {} already exists\".format(TABLE_GENERATION_ID))\n",
    "\n",
    "print('Creating the {} table'.format(TABLE_WEATHER_ID))\n",
    "table_weather = instance.table(TABLE_WEATHER_ID)\n",
    "\n",
    "if not table_weather.exists():\n",
    "    table_weather.create()\n",
    "else:\n",
    "    print(\"ERROR: Table {} already exists\".format(TABLE_WEATHER_ID))"
   ]
  },
  {
   "cell_type": "code",
   "execution_count": null,
   "metadata": {},
   "outputs": [],
   "source": [
    "print('Creating family columns')\n",
    "\n",
    "plant_cfId = 'plant'\n",
    "plant_cf = table_weather.column_family(plant_cfId)\n",
    "plant_cf.create()\n",
    "\n"
   ]
  },
  {
   "cell_type": "code",
   "execution_count": null,
   "metadata": {},
   "outputs": [],
   "source": [
    "telemetry_cfId = 'telemetry'\n",
    "telemetry_cf = table_weather.column_family(telemetry_cfId)\n",
    "telemetry_cf.create()"
   ]
  },
  {
   "cell_type": "code",
   "execution_count": null,
   "metadata": {},
   "outputs": [],
   "source": [
    "generation_cfId = 'generation'\n",
    "items_cf = table_generation.column_family(generation_cfId)\n",
    "items_cf.create()"
   ]
  },
  {
   "cell_type": "code",
   "execution_count": 9,
   "metadata": {},
   "outputs": [],
   "source": [
    "df_weather_plant2 = pd.read_csv('../data/Plant_2_Weather_Sensor_Data.csv')\n",
    "df_weather_plant1 = pd.read_csv('../data/Plant_1_Weather_Sensor_Data.csv')\n",
    "df_generation_plant2 = pd.read_csv('../data/Plant_2_Generation_Data.csv')\n",
    "df_generation_plant1 = pd.read_csv('../data/Plant_1_Generation_Data.csv')"
   ]
  },
  {
   "cell_type": "code",
   "execution_count": null,
   "metadata": {},
   "outputs": [],
   "source": [
    "print('Writing to the plant 2 weather table')\n",
    "rows = []\n",
    "for line in range(len(df_weather_plant2 )):\n",
    "    row_key = 'plant#{}#{}'.format(df_weather_plant2 ['PLANT_ID'][line], df_weather_plant2 ['DATE_TIME'][line]).encode()\n",
    "    date_time = datetime.datetime.strptime(df_weather_plant2 ['DATE_TIME'][line], '%Y-%m-%d %H:%M:%S')\n",
    "    row = table_weather.direct_row(row_key)\n",
    "\n",
    "    row.set_cell(plant_cfId, 'source_key'.encode(), df_weather_plant2 ['SOURCE_KEY'][line], timestamp = date_time)\n",
    "\n",
    "    row.set_cell(telemetry_cfId, 'ambient_temp'.encode(), str(df_weather_plant2 ['AMBIENT_TEMPERATURE'][line]), timestamp = date_time)\n",
    "    row.set_cell(telemetry_cfId, 'module_temp'.encode(), str(df_weather_plant2 ['MODULE_TEMPERATURE'][line]), timestamp = date_time)\n",
    "    row.set_cell(telemetry_cfId, 'irradiation'.encode(), str(df_weather_plant2 ['IRRADIATION'][line]), timestamp = date_time)\n",
    "\n",
    "    rows.append(row)\n",
    "\n",
    "table_weather.mutate_rows(rows)"
   ]
  },
  {
   "cell_type": "code",
   "execution_count": null,
   "metadata": {},
   "outputs": [],
   "source": [
    "print('Writing to the plant 1 weather table')\n",
    "rows = []\n",
    "for line in range(len(df_weather_plant1 )):\n",
    "    row_key = 'plant#{}#{}'.format(df_weather_plant1 ['PLANT_ID'][line], df_weather_plant1 ['DATE_TIME'][line]).encode()\n",
    "    date_time = datetime.datetime.strptime(df_weather_plant1 ['DATE_TIME'][line], '%Y-%m-%d %H:%M:%S')\n",
    "    row = table_weather.direct_row(row_key)\n",
    "\n",
    "    row.set_cell(plant_cfId, 'source_key'.encode(), df_weather_plant1 ['SOURCE_KEY'][line], timestamp = date_time)\n",
    "\n",
    "    row.set_cell(telemetry_cfId, 'ambient_temp'.encode(), str(df_weather_plant1 ['AMBIENT_TEMPERATURE'][line]), timestamp = date_time)\n",
    "    row.set_cell(telemetry_cfId, 'module_temp'.encode(), str(df_weather_plant1 ['MODULE_TEMPERATURE'][line]), timestamp = date_time)\n",
    "    row.set_cell(telemetry_cfId, 'irradiation'.encode(), str(df_weather_plant1 ['IRRADIATION'][line]), timestamp = date_time)\n",
    "\n",
    "    rows.append(row)\n",
    "\n",
    "table_weather.mutate_rows(rows)"
   ]
  },
  {
   "cell_type": "code",
   "execution_count": 12,
   "metadata": {},
   "outputs": [
    {
     "data": {
      "text/plain": [
       "range(0, 68778)"
      ]
     },
     "execution_count": 12,
     "metadata": {},
     "output_type": "execute_result"
    }
   ],
   "source": [
    "range(len(df_generation_plant1))"
   ]
  },
  {
   "cell_type": "code",
   "execution_count": 16,
   "metadata": {},
   "outputs": [
    {
     "data": {
      "text/html": [
       "<div>\n",
       "<style scoped>\n",
       "    .dataframe tbody tr th:only-of-type {\n",
       "        vertical-align: middle;\n",
       "    }\n",
       "\n",
       "    .dataframe tbody tr th {\n",
       "        vertical-align: top;\n",
       "    }\n",
       "\n",
       "    .dataframe thead th {\n",
       "        text-align: right;\n",
       "    }\n",
       "</style>\n",
       "<table border=\"1\" class=\"dataframe\">\n",
       "  <thead>\n",
       "    <tr style=\"text-align: right;\">\n",
       "      <th></th>\n",
       "      <th>DATE_TIME</th>\n",
       "      <th>PLANT_ID</th>\n",
       "      <th>SOURCE_KEY</th>\n",
       "      <th>DC_POWER</th>\n",
       "      <th>AC_POWER</th>\n",
       "      <th>DAILY_YIELD</th>\n",
       "      <th>TOTAL_YIELD</th>\n",
       "    </tr>\n",
       "  </thead>\n",
       "  <tbody>\n",
       "    <tr>\n",
       "      <th>0</th>\n",
       "      <td>15-05-2020 00:00</td>\n",
       "      <td>4135001</td>\n",
       "      <td>1BY6WEcLGh8j5v7</td>\n",
       "      <td>0.000000</td>\n",
       "      <td>0.000000</td>\n",
       "      <td>0.000000</td>\n",
       "      <td>6259559.000</td>\n",
       "    </tr>\n",
       "    <tr>\n",
       "      <th>1</th>\n",
       "      <td>15-05-2020 00:00</td>\n",
       "      <td>4135001</td>\n",
       "      <td>1IF53ai7Xc0U56Y</td>\n",
       "      <td>0.000000</td>\n",
       "      <td>0.000000</td>\n",
       "      <td>0.000000</td>\n",
       "      <td>6183645.000</td>\n",
       "    </tr>\n",
       "    <tr>\n",
       "      <th>2</th>\n",
       "      <td>15-05-2020 00:00</td>\n",
       "      <td>4135001</td>\n",
       "      <td>3PZuoBAID5Wc2HD</td>\n",
       "      <td>0.000000</td>\n",
       "      <td>0.000000</td>\n",
       "      <td>0.000000</td>\n",
       "      <td>6987759.000</td>\n",
       "    </tr>\n",
       "    <tr>\n",
       "      <th>3</th>\n",
       "      <td>15-05-2020 00:00</td>\n",
       "      <td>4135001</td>\n",
       "      <td>7JYdWkrLSPkdwr4</td>\n",
       "      <td>0.000000</td>\n",
       "      <td>0.000000</td>\n",
       "      <td>0.000000</td>\n",
       "      <td>7602960.000</td>\n",
       "    </tr>\n",
       "    <tr>\n",
       "      <th>4</th>\n",
       "      <td>15-05-2020 00:00</td>\n",
       "      <td>4135001</td>\n",
       "      <td>McdE0feGgRqW7Ca</td>\n",
       "      <td>0.000000</td>\n",
       "      <td>0.000000</td>\n",
       "      <td>0.000000</td>\n",
       "      <td>7158964.000</td>\n",
       "    </tr>\n",
       "    <tr>\n",
       "      <th>...</th>\n",
       "      <td>...</td>\n",
       "      <td>...</td>\n",
       "      <td>...</td>\n",
       "      <td>...</td>\n",
       "      <td>...</td>\n",
       "      <td>...</td>\n",
       "      <td>...</td>\n",
       "    </tr>\n",
       "    <tr>\n",
       "      <th>2995</th>\n",
       "      <td>16-05-2020 13:45</td>\n",
       "      <td>4135001</td>\n",
       "      <td>ZoEaEvLYb1n2sOq</td>\n",
       "      <td>6888.125000</td>\n",
       "      <td>674.525000</td>\n",
       "      <td>4626.500000</td>\n",
       "      <td>7108986.500</td>\n",
       "    </tr>\n",
       "    <tr>\n",
       "      <th>2996</th>\n",
       "      <td>16-05-2020 13:45</td>\n",
       "      <td>4135001</td>\n",
       "      <td>adLQvlD726eNBSB</td>\n",
       "      <td>6833.285714</td>\n",
       "      <td>669.228571</td>\n",
       "      <td>4902.428571</td>\n",
       "      <td>6282640.429</td>\n",
       "    </tr>\n",
       "    <tr>\n",
       "      <th>2997</th>\n",
       "      <td>16-05-2020 13:45</td>\n",
       "      <td>4135001</td>\n",
       "      <td>bvBOhCH3iADSZry</td>\n",
       "      <td>6453.375000</td>\n",
       "      <td>632.075000</td>\n",
       "      <td>4487.750000</td>\n",
       "      <td>6326997.750</td>\n",
       "    </tr>\n",
       "    <tr>\n",
       "      <th>2998</th>\n",
       "      <td>16-05-2020 13:45</td>\n",
       "      <td>4135001</td>\n",
       "      <td>iCRJl6heRkivqQ3</td>\n",
       "      <td>6954.250000</td>\n",
       "      <td>681.012500</td>\n",
       "      <td>4640.125000</td>\n",
       "      <td>7189050.125</td>\n",
       "    </tr>\n",
       "    <tr>\n",
       "      <th>2999</th>\n",
       "      <td>16-05-2020 13:45</td>\n",
       "      <td>4135001</td>\n",
       "      <td>ih0vzX44oOqAx2f</td>\n",
       "      <td>7627.428571</td>\n",
       "      <td>746.600000</td>\n",
       "      <td>4680.000000</td>\n",
       "      <td>6196040.000</td>\n",
       "    </tr>\n",
       "  </tbody>\n",
       "</table>\n",
       "<p>3000 rows × 7 columns</p>\n",
       "</div>"
      ],
      "text/plain": [
       "             DATE_TIME  PLANT_ID       SOURCE_KEY     DC_POWER    AC_POWER  \\\n",
       "0     15-05-2020 00:00   4135001  1BY6WEcLGh8j5v7     0.000000    0.000000   \n",
       "1     15-05-2020 00:00   4135001  1IF53ai7Xc0U56Y     0.000000    0.000000   \n",
       "2     15-05-2020 00:00   4135001  3PZuoBAID5Wc2HD     0.000000    0.000000   \n",
       "3     15-05-2020 00:00   4135001  7JYdWkrLSPkdwr4     0.000000    0.000000   \n",
       "4     15-05-2020 00:00   4135001  McdE0feGgRqW7Ca     0.000000    0.000000   \n",
       "...                ...       ...              ...          ...         ...   \n",
       "2995  16-05-2020 13:45   4135001  ZoEaEvLYb1n2sOq  6888.125000  674.525000   \n",
       "2996  16-05-2020 13:45   4135001  adLQvlD726eNBSB  6833.285714  669.228571   \n",
       "2997  16-05-2020 13:45   4135001  bvBOhCH3iADSZry  6453.375000  632.075000   \n",
       "2998  16-05-2020 13:45   4135001  iCRJl6heRkivqQ3  6954.250000  681.012500   \n",
       "2999  16-05-2020 13:45   4135001  ih0vzX44oOqAx2f  7627.428571  746.600000   \n",
       "\n",
       "      DAILY_YIELD  TOTAL_YIELD  \n",
       "0        0.000000  6259559.000  \n",
       "1        0.000000  6183645.000  \n",
       "2        0.000000  6987759.000  \n",
       "3        0.000000  7602960.000  \n",
       "4        0.000000  7158964.000  \n",
       "...           ...          ...  \n",
       "2995  4626.500000  7108986.500  \n",
       "2996  4902.428571  6282640.429  \n",
       "2997  4487.750000  6326997.750  \n",
       "2998  4640.125000  7189050.125  \n",
       "2999  4680.000000  6196040.000  \n",
       "\n",
       "[3000 rows x 7 columns]"
      ]
     },
     "execution_count": 16,
     "metadata": {},
     "output_type": "execute_result"
    }
   ],
   "source": [
    "df = df_generation_plant1.iloc[0:3000]\n",
    "df"
   ]
  },
  {
   "cell_type": "code",
   "execution_count": 13,
   "metadata": {},
   "outputs": [
    {
     "name": "stdout",
     "output_type": "stream",
     "text": [
      "Writing to the generation table\n"
     ]
    },
    {
     "ename": "KeyError",
     "evalue": "1",
     "output_type": "error",
     "traceback": [
      "\u001b[1;31m---------------------------------------------------------------------------\u001b[0m",
      "\u001b[1;31mValueError\u001b[0m                                Traceback (most recent call last)",
      "\u001b[1;32m~\\AppData\\Local\\Programs\\Python\\Python39\\lib\\site-packages\\pandas\\core\\indexes\\range.py\u001b[0m in \u001b[0;36mget_loc\u001b[1;34m(self, key, method, tolerance)\u001b[0m\n\u001b[0;32m    384\u001b[0m                 \u001b[1;32mtry\u001b[0m\u001b[1;33m:\u001b[0m\u001b[1;33m\u001b[0m\u001b[1;33m\u001b[0m\u001b[0m\n\u001b[1;32m--> 385\u001b[1;33m                     \u001b[1;32mreturn\u001b[0m \u001b[0mself\u001b[0m\u001b[1;33m.\u001b[0m\u001b[0m_range\u001b[0m\u001b[1;33m.\u001b[0m\u001b[0mindex\u001b[0m\u001b[1;33m(\u001b[0m\u001b[0mnew_key\u001b[0m\u001b[1;33m)\u001b[0m\u001b[1;33m\u001b[0m\u001b[1;33m\u001b[0m\u001b[0m\n\u001b[0m\u001b[0;32m    386\u001b[0m                 \u001b[1;32mexcept\u001b[0m \u001b[0mValueError\u001b[0m \u001b[1;32mas\u001b[0m \u001b[0merr\u001b[0m\u001b[1;33m:\u001b[0m\u001b[1;33m\u001b[0m\u001b[1;33m\u001b[0m\u001b[0m\n",
      "\u001b[1;31mValueError\u001b[0m: 1 is not in range",
      "\nThe above exception was the direct cause of the following exception:\n",
      "\u001b[1;31mKeyError\u001b[0m                                  Traceback (most recent call last)",
      "\u001b[1;32m<ipython-input-13-1f50e720f4a9>\u001b[0m in \u001b[0;36m<module>\u001b[1;34m\u001b[0m\n\u001b[0;32m      4\u001b[0m \u001b[1;32mfor\u001b[0m \u001b[0mline\u001b[0m \u001b[1;32min\u001b[0m \u001b[0mrange\u001b[0m\u001b[1;33m(\u001b[0m\u001b[0mlen\u001b[0m\u001b[1;33m(\u001b[0m\u001b[0mdf_generation_plant1\u001b[0m\u001b[1;33m)\u001b[0m\u001b[1;33m)\u001b[0m\u001b[1;33m:\u001b[0m\u001b[1;33m\u001b[0m\u001b[1;33m\u001b[0m\u001b[0m\n\u001b[0;32m      5\u001b[0m     \u001b[0mdf\u001b[0m \u001b[1;33m=\u001b[0m \u001b[0mdf_generation_plant1\u001b[0m\u001b[1;33m.\u001b[0m\u001b[0miloc\u001b[0m\u001b[1;33m[\u001b[0m\u001b[0macumulador\u001b[0m\u001b[1;33m:\u001b[0m\u001b[0macumulador\u001b[0m\u001b[1;33m+\u001b[0m\u001b[1;36m3000\u001b[0m\u001b[1;33m]\u001b[0m\u001b[1;33m\u001b[0m\u001b[1;33m\u001b[0m\u001b[0m\n\u001b[1;32m----> 6\u001b[1;33m     \u001b[0mrow_key\u001b[0m \u001b[1;33m=\u001b[0m \u001b[1;34m'plant#{}#{}'\u001b[0m\u001b[1;33m.\u001b[0m\u001b[0mformat\u001b[0m\u001b[1;33m(\u001b[0m\u001b[0mdf\u001b[0m\u001b[1;33m[\u001b[0m\u001b[1;34m'PLANT_ID'\u001b[0m\u001b[1;33m]\u001b[0m\u001b[1;33m[\u001b[0m\u001b[0mline\u001b[0m\u001b[1;33m]\u001b[0m\u001b[1;33m,\u001b[0m \u001b[0mdf\u001b[0m\u001b[1;33m[\u001b[0m\u001b[1;34m'DATE_TIME'\u001b[0m\u001b[1;33m]\u001b[0m\u001b[1;33m[\u001b[0m\u001b[0mline\u001b[0m\u001b[1;33m]\u001b[0m\u001b[1;33m)\u001b[0m\u001b[1;33m.\u001b[0m\u001b[0mencode\u001b[0m\u001b[1;33m(\u001b[0m\u001b[1;33m)\u001b[0m\u001b[1;33m\u001b[0m\u001b[1;33m\u001b[0m\u001b[0m\n\u001b[0m\u001b[0;32m      7\u001b[0m     \u001b[0mdate_time\u001b[0m \u001b[1;33m=\u001b[0m \u001b[0mdatetime\u001b[0m\u001b[1;33m.\u001b[0m\u001b[0mdatetime\u001b[0m\u001b[1;33m.\u001b[0m\u001b[0mstrptime\u001b[0m\u001b[1;33m(\u001b[0m\u001b[0mdf\u001b[0m\u001b[1;33m[\u001b[0m\u001b[1;34m'DATE_TIME'\u001b[0m\u001b[1;33m]\u001b[0m\u001b[1;33m[\u001b[0m\u001b[0mline\u001b[0m\u001b[1;33m]\u001b[0m\u001b[1;33m,\u001b[0m \u001b[1;34m'%d-%m-%Y %H:%M'\u001b[0m\u001b[1;33m)\u001b[0m\u001b[1;33m\u001b[0m\u001b[1;33m\u001b[0m\u001b[0m\n\u001b[0;32m      8\u001b[0m     \u001b[0mrow\u001b[0m \u001b[1;33m=\u001b[0m \u001b[0mtable_generation\u001b[0m\u001b[1;33m.\u001b[0m\u001b[0mdirect_row\u001b[0m\u001b[1;33m(\u001b[0m\u001b[0mrow_key\u001b[0m\u001b[1;33m)\u001b[0m\u001b[1;33m\u001b[0m\u001b[1;33m\u001b[0m\u001b[0m\n",
      "\u001b[1;32m~\\AppData\\Local\\Programs\\Python\\Python39\\lib\\site-packages\\pandas\\core\\series.py\u001b[0m in \u001b[0;36m__getitem__\u001b[1;34m(self, key)\u001b[0m\n\u001b[0;32m    940\u001b[0m \u001b[1;33m\u001b[0m\u001b[0m\n\u001b[0;32m    941\u001b[0m         \u001b[1;32melif\u001b[0m \u001b[0mkey_is_scalar\u001b[0m\u001b[1;33m:\u001b[0m\u001b[1;33m\u001b[0m\u001b[1;33m\u001b[0m\u001b[0m\n\u001b[1;32m--> 942\u001b[1;33m             \u001b[1;32mreturn\u001b[0m \u001b[0mself\u001b[0m\u001b[1;33m.\u001b[0m\u001b[0m_get_value\u001b[0m\u001b[1;33m(\u001b[0m\u001b[0mkey\u001b[0m\u001b[1;33m)\u001b[0m\u001b[1;33m\u001b[0m\u001b[1;33m\u001b[0m\u001b[0m\n\u001b[0m\u001b[0;32m    943\u001b[0m \u001b[1;33m\u001b[0m\u001b[0m\n\u001b[0;32m    944\u001b[0m         \u001b[1;32mif\u001b[0m \u001b[0mis_hashable\u001b[0m\u001b[1;33m(\u001b[0m\u001b[0mkey\u001b[0m\u001b[1;33m)\u001b[0m\u001b[1;33m:\u001b[0m\u001b[1;33m\u001b[0m\u001b[1;33m\u001b[0m\u001b[0m\n",
      "\u001b[1;32m~\\AppData\\Local\\Programs\\Python\\Python39\\lib\\site-packages\\pandas\\core\\series.py\u001b[0m in \u001b[0;36m_get_value\u001b[1;34m(self, label, takeable)\u001b[0m\n\u001b[0;32m   1049\u001b[0m \u001b[1;33m\u001b[0m\u001b[0m\n\u001b[0;32m   1050\u001b[0m         \u001b[1;31m# Similar to Index.get_value, but we do not fall back to positional\u001b[0m\u001b[1;33m\u001b[0m\u001b[1;33m\u001b[0m\u001b[1;33m\u001b[0m\u001b[0m\n\u001b[1;32m-> 1051\u001b[1;33m         \u001b[0mloc\u001b[0m \u001b[1;33m=\u001b[0m \u001b[0mself\u001b[0m\u001b[1;33m.\u001b[0m\u001b[0mindex\u001b[0m\u001b[1;33m.\u001b[0m\u001b[0mget_loc\u001b[0m\u001b[1;33m(\u001b[0m\u001b[0mlabel\u001b[0m\u001b[1;33m)\u001b[0m\u001b[1;33m\u001b[0m\u001b[1;33m\u001b[0m\u001b[0m\n\u001b[0m\u001b[0;32m   1052\u001b[0m         \u001b[1;32mreturn\u001b[0m \u001b[0mself\u001b[0m\u001b[1;33m.\u001b[0m\u001b[0mindex\u001b[0m\u001b[1;33m.\u001b[0m\u001b[0m_get_values_for_loc\u001b[0m\u001b[1;33m(\u001b[0m\u001b[0mself\u001b[0m\u001b[1;33m,\u001b[0m \u001b[0mloc\u001b[0m\u001b[1;33m,\u001b[0m \u001b[0mlabel\u001b[0m\u001b[1;33m)\u001b[0m\u001b[1;33m\u001b[0m\u001b[1;33m\u001b[0m\u001b[0m\n\u001b[0;32m   1053\u001b[0m \u001b[1;33m\u001b[0m\u001b[0m\n",
      "\u001b[1;32m~\\AppData\\Local\\Programs\\Python\\Python39\\lib\\site-packages\\pandas\\core\\indexes\\range.py\u001b[0m in \u001b[0;36mget_loc\u001b[1;34m(self, key, method, tolerance)\u001b[0m\n\u001b[0;32m    385\u001b[0m                     \u001b[1;32mreturn\u001b[0m \u001b[0mself\u001b[0m\u001b[1;33m.\u001b[0m\u001b[0m_range\u001b[0m\u001b[1;33m.\u001b[0m\u001b[0mindex\u001b[0m\u001b[1;33m(\u001b[0m\u001b[0mnew_key\u001b[0m\u001b[1;33m)\u001b[0m\u001b[1;33m\u001b[0m\u001b[1;33m\u001b[0m\u001b[0m\n\u001b[0;32m    386\u001b[0m                 \u001b[1;32mexcept\u001b[0m \u001b[0mValueError\u001b[0m \u001b[1;32mas\u001b[0m \u001b[0merr\u001b[0m\u001b[1;33m:\u001b[0m\u001b[1;33m\u001b[0m\u001b[1;33m\u001b[0m\u001b[0m\n\u001b[1;32m--> 387\u001b[1;33m                     \u001b[1;32mraise\u001b[0m \u001b[0mKeyError\u001b[0m\u001b[1;33m(\u001b[0m\u001b[0mkey\u001b[0m\u001b[1;33m)\u001b[0m \u001b[1;32mfrom\u001b[0m \u001b[0merr\u001b[0m\u001b[1;33m\u001b[0m\u001b[1;33m\u001b[0m\u001b[0m\n\u001b[0m\u001b[0;32m    388\u001b[0m             \u001b[1;32mraise\u001b[0m \u001b[0mKeyError\u001b[0m\u001b[1;33m(\u001b[0m\u001b[0mkey\u001b[0m\u001b[1;33m)\u001b[0m\u001b[1;33m\u001b[0m\u001b[1;33m\u001b[0m\u001b[0m\n\u001b[0;32m    389\u001b[0m         \u001b[1;32mreturn\u001b[0m \u001b[0msuper\u001b[0m\u001b[1;33m(\u001b[0m\u001b[1;33m)\u001b[0m\u001b[1;33m.\u001b[0m\u001b[0mget_loc\u001b[0m\u001b[1;33m(\u001b[0m\u001b[0mkey\u001b[0m\u001b[1;33m,\u001b[0m \u001b[0mmethod\u001b[0m\u001b[1;33m=\u001b[0m\u001b[0mmethod\u001b[0m\u001b[1;33m,\u001b[0m \u001b[0mtolerance\u001b[0m\u001b[1;33m=\u001b[0m\u001b[0mtolerance\u001b[0m\u001b[1;33m)\u001b[0m\u001b[1;33m\u001b[0m\u001b[1;33m\u001b[0m\u001b[0m\n",
      "\u001b[1;31mKeyError\u001b[0m: 1"
     ]
    }
   ],
   "source": [
    "print('Writing to the generation table')\n",
    "rows = []\n",
    "acumulador = 0\n",
    "for line in range(len(df_generation_plant1)):\n",
    "    df = df_generation_plant1.iloc[acumulador:acumulador+3000]\n",
    "    for row in range(len(df)):\n",
    "        row_key = 'plant#{}#{}'.format(df['PLANT_ID'][line], df['DATE_TIME'][line]).encode()\n",
    "        date_time = datetime.datetime.strptime(df['DATE_TIME'][line], '%d-%m-%Y %H:%M')\n",
    "        row = table_generation.direct_row(row_key)\n",
    "\n",
    "        row.set_cell(plant_cfId, 'source_key'.encode(), df['SOURCE_KEY'][line], timestamp = date_time)\n",
    "\n",
    "        row.set_cell(generation_cfId, 'dc_power'.encode(), str(df['DC_POWER'][line]), timestamp = date_time)\n",
    "        row.set_cell(generation_cfId, 'ac_power'.encode(), str(df['AC_POWER'][line]), timestamp = date_time)\n",
    "\n",
    "        row.set_cell(generation_cfId, 'daily_yield'.encode(), str(df['DAILY_YIELD'][line]), timestamp = date_time)\n",
    "        row.set_cell(generation_cfId, 'total_yield'.encode(), str(df['TOTAL_YIELD'][line]), timestamp = date_time)\n",
    "\n",
    "        rows.append(row)\n",
    "    acumulador += 3000\n",
    "    table_generation.mutate_rows(rows)"
   ]
  },
  {
   "cell_type": "code",
   "execution_count": 11,
   "metadata": {},
   "outputs": [
    {
     "name": "stdout",
     "output_type": "stream",
     "text": [
      "¿Cuáles fueron las diferentes medidas de temperatura ambiente para la planta 2 con fecha del 1 de junio desde las 6 de la mañana al mediodía?\n",
      "Reading data for plant#4136001#2020-06-01 06:00:00:\n",
      "Column Family telemetry\n",
      "\tambient_temp: 23.470155033333327 @2020-06-01 06:00:00+00:00\n",
      "\n",
      "Reading data for plant#4136001#2020-06-01 06:15:00:\n",
      "Column Family telemetry\n",
      "\tambient_temp: 23.67332510344828 @2020-06-01 06:15:00+00:00\n",
      "\n",
      "Reading data for plant#4136001#2020-06-01 06:30:00:\n",
      "Column Family telemetry\n",
      "\tambient_temp: 23.979217633333327 @2020-06-01 06:30:00+00:00\n",
      "\n",
      "Reading data for plant#4136001#2020-06-01 06:45:00:\n",
      "Column Family telemetry\n",
      "\tambient_temp: 24.209690400000003 @2020-06-01 06:45:00+00:00\n",
      "\n",
      "Reading data for plant#4136001#2020-06-01 07:00:00:\n",
      "Column Family telemetry\n",
      "\tambient_temp: 24.567252344827587 @2020-06-01 07:00:00+00:00\n",
      "\n",
      "Reading data for plant#4136001#2020-06-01 07:15:00:\n",
      "Column Family telemetry\n",
      "\tambient_temp: 24.835614033333336 @2020-06-01 07:15:00+00:00\n",
      "\n",
      "Reading data for plant#4136001#2020-06-01 07:30:00:\n",
      "Column Family telemetry\n",
      "\tambient_temp: 25.36163324137931 @2020-06-01 07:30:00+00:00\n",
      "\n",
      "Reading data for plant#4136001#2020-06-01 07:45:00:\n",
      "Column Family telemetry\n",
      "\tambient_temp: 25.5112201 @2020-06-01 07:45:00+00:00\n",
      "\n",
      "Reading data for plant#4136001#2020-06-01 08:00:00:\n",
      "Column Family telemetry\n",
      "\tambient_temp: 25.689117433333333 @2020-06-01 08:00:00+00:00\n",
      "\n",
      "Reading data for plant#4136001#2020-06-01 08:15:00:\n",
      "Column Family telemetry\n",
      "\tambient_temp: 25.838382137931035 @2020-06-01 08:15:00+00:00\n",
      "\n",
      "Reading data for plant#4136001#2020-06-01 08:30:00:\n",
      "Column Family telemetry\n",
      "\tambient_temp: 26.10598753333333 @2020-06-01 08:30:00+00:00\n",
      "\n",
      "Reading data for plant#4136001#2020-06-01 08:45:00:\n",
      "Column Family telemetry\n",
      "\tambient_temp: 26.78541406896552 @2020-06-01 08:45:00+00:00\n",
      "\n",
      "Reading data for plant#4136001#2020-06-01 09:00:00:\n",
      "Column Family telemetry\n",
      "\tambient_temp: 27.515931200000004 @2020-06-01 09:00:00+00:00\n",
      "\n",
      "Reading data for plant#4136001#2020-06-01 09:15:00:\n",
      "Column Family telemetry\n",
      "\tambient_temp: 28.245770233333328 @2020-06-01 09:15:00+00:00\n",
      "\n",
      "Reading data for plant#4136001#2020-06-01 09:30:00:\n",
      "Column Family telemetry\n",
      "\tambient_temp: 29.05904 @2020-06-01 09:30:00+00:00\n",
      "\n",
      "Reading data for plant#4136001#2020-06-01 09:45:00:\n",
      "Column Family telemetry\n",
      "\tambient_temp: 29.394693966666665 @2020-06-01 09:45:00+00:00\n",
      "\n",
      "Reading data for plant#4136001#2020-06-01 10:00:00:\n",
      "Column Family telemetry\n",
      "\tambient_temp: 29.30169255172414 @2020-06-01 10:00:00+00:00\n",
      "\n",
      "Reading data for plant#4136001#2020-06-01 10:15:00:\n",
      "Column Family telemetry\n",
      "\tambient_temp: 29.8226225 @2020-06-01 10:15:00+00:00\n",
      "\n",
      "Reading data for plant#4136001#2020-06-01 10:30:00:\n",
      "Column Family telemetry\n",
      "\tambient_temp: 30.160547758620687 @2020-06-01 10:30:00+00:00\n",
      "\n",
      "Reading data for plant#4136001#2020-06-01 10:45:00:\n",
      "Column Family telemetry\n",
      "\tambient_temp: 30.09952903333333 @2020-06-01 10:45:00+00:00\n",
      "\n",
      "Reading data for plant#4136001#2020-06-01 11:00:00:\n",
      "Column Family telemetry\n",
      "\tambient_temp: 30.165436866666667 @2020-06-01 11:00:00+00:00\n",
      "\n",
      "Reading data for plant#4136001#2020-06-01 11:15:00:\n",
      "Column Family telemetry\n",
      "\tambient_temp: 30.59765 @2020-06-01 11:15:00+00:00\n",
      "\n",
      "Reading data for plant#4136001#2020-06-01 11:30:00:\n",
      "Column Family telemetry\n",
      "\tambient_temp: 30.9631358 @2020-06-01 11:30:00+00:00\n",
      "\n",
      "Reading data for plant#4136001#2020-06-01 11:45:00:\n",
      "Column Family telemetry\n",
      "\tambient_temp: 30.702194655172413 @2020-06-01 11:45:00+00:00\n",
      "\n"
     ]
    }
   ],
   "source": [
    "print('¿Cuáles fueron las diferentes medidas de temperatura ambiente para la planta 2 con fecha del 1 de junio desde las 6 de la mañana al mediodía?')\n",
    "\n",
    "row_set = RowSet()\n",
    "row_set.add_row_range_from_keys(\n",
    "    start_key = b'plant#4136001#2020-06-01 06:00:00',\n",
    "    end_key = b'plant#4136001#2020-06-01 12:00:00'\n",
    ")\n",
    "\n",
    "col_filter = row_filters.ColumnQualifierRegexFilter('ambient_temp'.encode())\n",
    "\n",
    "rows = table_weather.read_rows(row_set=row_set, filter_=col_filter)\n",
    "\n",
    "for row in rows:\n",
    "    print_row(row)"
   ]
  },
  {
   "cell_type": "code",
   "execution_count": null,
   "metadata": {},
   "outputs": [],
   "source": [
    "rows = table_generation.read_rows()\n",
    "for row in rows:\n",
    "    print_row(row)"
   ]
  },
  {
   "cell_type": "code",
   "execution_count": 10,
   "metadata": {},
   "outputs": [],
   "source": [
    "def print_row(row):\n",
    "    print(\"Reading data for {}:\".format(row.row_key.decode('utf-8')))\n",
    "    for cf, cols in sorted(row.cells.items()):\n",
    "        print(\"Column Family {}\".format(cf))\n",
    "        for col, cells in sorted(cols.items()):\n",
    "            for cell in cells:\n",
    "                labels = \" [{}]\".format(\",\".join(cell.labels)) \\\n",
    "                    if len(cell.labels) else \"\"\n",
    "                print(\n",
    "                    \"\\t{}: {} @{}{}\".format(col.decode('utf-8'),\n",
    "                                            cell.value.decode('utf-8'),\n",
    "                                            cell.timestamp, labels))\n",
    "    print(\"\")"
   ]
  }
 ],
 "metadata": {
  "interpreter": {
   "hash": "974dc7267118ab73813c3707795434ef88a5cb59fbcc85879b6a60b737adb12e"
  },
  "kernelspec": {
   "display_name": "Python 3.9.1 64-bit",
   "name": "python3"
  },
  "language_info": {
   "codemirror_mode": {
    "name": "ipython",
    "version": 3
   },
   "file_extension": ".py",
   "mimetype": "text/x-python",
   "name": "python",
   "nbconvert_exporter": "python",
   "pygments_lexer": "ipython3",
   "version": "3.9.1"
  },
  "orig_nbformat": 4
 },
 "nbformat": 4,
 "nbformat_minor": 2
}
